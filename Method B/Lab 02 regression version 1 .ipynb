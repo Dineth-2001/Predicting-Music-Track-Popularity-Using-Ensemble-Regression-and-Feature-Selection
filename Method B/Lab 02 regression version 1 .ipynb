{
 "cells": [
  {
   "cell_type": "code",
   "execution_count": 1,
   "id": "d9392a6a",
   "metadata": {
    "_cell_guid": "b1076dfc-b9ad-4769-8c92-a6c4dae69d19",
    "_uuid": "8f2839f25d086af736a60e9eeb907d3b93b6e0e5",
    "execution": {
     "iopub.execute_input": "2025-04-30T12:44:06.510977Z",
     "iopub.status.busy": "2025-04-30T12:44:06.510484Z",
     "iopub.status.idle": "2025-04-30T12:44:07.626897Z",
     "shell.execute_reply": "2025-04-30T12:44:07.625429Z"
    },
    "papermill": {
     "duration": 1.129105,
     "end_time": "2025-04-30T12:44:07.628860",
     "exception": false,
     "start_time": "2025-04-30T12:44:06.499755",
     "status": "completed"
    },
    "tags": []
   },
   "outputs": [
    {
     "name": "stdout",
     "output_type": "stream",
     "text": [
      "/kaggle/input/mlx-2-0-regression/sample_submission.csv\n",
      "/kaggle/input/mlx-2-0-regression/train.csv\n",
      "/kaggle/input/mlx-2-0-regression/test.csv\n"
     ]
    }
   ],
   "source": [
    "# This Python 3 environment comes with many helpful analytics libraries installed\n",
    "# It is defined by the kaggle/python Docker image: https://github.com/kaggle/docker-python\n",
    "# For example, here's several helpful packages to load\n",
    "\n",
    "import numpy as np # linear algebra\n",
    "import pandas as pd # data processing, CSV file I/O (e.g. pd.read_csv)\n",
    "import warnings\n",
    "\n",
    "# Input data files are available in the read-only \"../input/\" directory\n",
    "# For example, running this (by clicking run or pressing Shift+Enter) will list all files under the input directory\n",
    "\n",
    "import os\n",
    "for dirname, _, filenames in os.walk('/kaggle/input'):\n",
    "    for filename in filenames:\n",
    "        print(os.path.join(dirname, filename))\n",
    "\n",
    "warnings.simplefilter(action='ignore', category=Warning)\n",
    "\n",
    "# You can write up to 20GB to the current directory (/kaggle/working/) that gets preserved as output when you create a version using \"Save & Run All\" \n",
    "# You can also write temporary files to /kaggle/temp/, but they won't be saved outside of the current session"
   ]
  },
  {
   "cell_type": "markdown",
   "id": "5a172483",
   "metadata": {
    "papermill": {
     "duration": 0.005597,
     "end_time": "2025-04-30T12:44:07.640995",
     "exception": false,
     "start_time": "2025-04-30T12:44:07.635398",
     "status": "completed"
    },
    "tags": []
   },
   "source": [
    "# Loading the Data"
   ]
  },
  {
   "cell_type": "code",
   "execution_count": 2,
   "id": "8ea564ff",
   "metadata": {
    "execution": {
     "iopub.execute_input": "2025-04-30T12:44:07.655422Z",
     "iopub.status.busy": "2025-04-30T12:44:07.654894Z",
     "iopub.status.idle": "2025-04-30T12:44:10.064112Z",
     "shell.execute_reply": "2025-04-30T12:44:10.062862Z"
    },
    "papermill": {
     "duration": 2.419129,
     "end_time": "2025-04-30T12:44:10.066238",
     "exception": false,
     "start_time": "2025-04-30T12:44:07.647109",
     "status": "completed"
    },
    "tags": []
   },
   "outputs": [],
   "source": [
    "df = pd.read_csv(\"/kaggle/input/mlx-2-0-regression/train.csv\")\n",
    "test = pd.read_csv(\"/kaggle/input/mlx-2-0-regression/test.csv\")"
   ]
  },
  {
   "cell_type": "code",
   "execution_count": 3,
   "id": "47e56f38",
   "metadata": {
    "execution": {
     "iopub.execute_input": "2025-04-30T12:44:10.080380Z",
     "iopub.status.busy": "2025-04-30T12:44:10.080003Z",
     "iopub.status.idle": "2025-04-30T12:44:10.133354Z",
     "shell.execute_reply": "2025-04-30T12:44:10.131765Z"
    },
    "papermill": {
     "duration": 0.062958,
     "end_time": "2025-04-30T12:44:10.135562",
     "exception": false,
     "start_time": "2025-04-30T12:44:10.072604",
     "status": "completed"
    },
    "tags": []
   },
   "outputs": [
    {
     "data": {
      "text/html": [
       "<div>\n",
       "<style scoped>\n",
       "    .dataframe tbody tr th:only-of-type {\n",
       "        vertical-align: middle;\n",
       "    }\n",
       "\n",
       "    .dataframe tbody tr th {\n",
       "        vertical-align: top;\n",
       "    }\n",
       "\n",
       "    .dataframe thead th {\n",
       "        text-align: right;\n",
       "    }\n",
       "</style>\n",
       "<table border=\"1\" class=\"dataframe\">\n",
       "  <thead>\n",
       "    <tr style=\"text-align: right;\">\n",
       "      <th></th>\n",
       "      <th>id</th>\n",
       "      <th>emotional_charge_2</th>\n",
       "      <th>groove_efficiency_1</th>\n",
       "      <th>beat_frequency_1</th>\n",
       "      <th>organic_texture_2</th>\n",
       "      <th>composition_label_0</th>\n",
       "      <th>harmonic_scale_1</th>\n",
       "      <th>intensity_index_0</th>\n",
       "      <th>duration_ms_0</th>\n",
       "      <th>album_name_length</th>\n",
       "      <th>...</th>\n",
       "      <th>time_signature_0</th>\n",
       "      <th>duration_ms_1</th>\n",
       "      <th>harmonic_scale_0</th>\n",
       "      <th>time_signature_2</th>\n",
       "      <th>rhythmic_cohesion_2</th>\n",
       "      <th>emotional_resonance_0</th>\n",
       "      <th>harmonic_scale_2</th>\n",
       "      <th>intensity_index_2</th>\n",
       "      <th>instrumental_density_0</th>\n",
       "      <th>target</th>\n",
       "    </tr>\n",
       "  </thead>\n",
       "  <tbody>\n",
       "    <tr>\n",
       "      <th>0</th>\n",
       "      <td>76339</td>\n",
       "      <td>0.482850</td>\n",
       "      <td>1.169231</td>\n",
       "      <td>80.018</td>\n",
       "      <td>0.0201</td>\n",
       "      <td>Country Stuff (feat. Jake Owen)</td>\n",
       "      <td>1.0</td>\n",
       "      <td>0.789</td>\n",
       "      <td>154586.0</td>\n",
       "      <td>NaN</td>\n",
       "      <td>...</td>\n",
       "      <td>4.0</td>\n",
       "      <td>161853.0</td>\n",
       "      <td>7.0</td>\n",
       "      <td>4.0</td>\n",
       "      <td>NaN</td>\n",
       "      <td>0.607</td>\n",
       "      <td>7.0</td>\n",
       "      <td>0.7250</td>\n",
       "      <td>0.000000</td>\n",
       "      <td>74</td>\n",
       "    </tr>\n",
       "    <tr>\n",
       "      <th>1</th>\n",
       "      <td>80006</td>\n",
       "      <td>0.267862</td>\n",
       "      <td>1.321321</td>\n",
       "      <td>147.966</td>\n",
       "      <td>0.3340</td>\n",
       "      <td>Solitude</td>\n",
       "      <td>6.0</td>\n",
       "      <td>0.715</td>\n",
       "      <td>46874.0</td>\n",
       "      <td>15.0</td>\n",
       "      <td>...</td>\n",
       "      <td>4.0</td>\n",
       "      <td>155619.0</td>\n",
       "      <td>1.0</td>\n",
       "      <td>4.0</td>\n",
       "      <td>0.843</td>\n",
       "      <td>0.783</td>\n",
       "      <td>4.0</td>\n",
       "      <td>NaN</td>\n",
       "      <td>0.043200</td>\n",
       "      <td>2</td>\n",
       "    </tr>\n",
       "    <tr>\n",
       "      <th>2</th>\n",
       "      <td>83501</td>\n",
       "      <td>0.242606</td>\n",
       "      <td>1.285319</td>\n",
       "      <td>142.980</td>\n",
       "      <td>0.1110</td>\n",
       "      <td>BDFFRNT (Saved from Conformity)</td>\n",
       "      <td>4.0</td>\n",
       "      <td>NaN</td>\n",
       "      <td>264665.0</td>\n",
       "      <td>7.0</td>\n",
       "      <td>...</td>\n",
       "      <td>4.0</td>\n",
       "      <td>209378.0</td>\n",
       "      <td>6.0</td>\n",
       "      <td>4.0</td>\n",
       "      <td>NaN</td>\n",
       "      <td>0.211</td>\n",
       "      <td>10.0</td>\n",
       "      <td>0.6020</td>\n",
       "      <td>0.000000</td>\n",
       "      <td>35</td>\n",
       "    </tr>\n",
       "    <tr>\n",
       "      <th>3</th>\n",
       "      <td>81530</td>\n",
       "      <td>0.426400</td>\n",
       "      <td>1.279435</td>\n",
       "      <td>123.063</td>\n",
       "      <td>0.1960</td>\n",
       "      <td>Headlights (feat. Ilsey)</td>\n",
       "      <td>5.0</td>\n",
       "      <td>0.685</td>\n",
       "      <td>209208.0</td>\n",
       "      <td>5.0</td>\n",
       "      <td>...</td>\n",
       "      <td>4.0</td>\n",
       "      <td>219043.0</td>\n",
       "      <td>11.0</td>\n",
       "      <td>4.0</td>\n",
       "      <td>0.702</td>\n",
       "      <td>0.369</td>\n",
       "      <td>NaN</td>\n",
       "      <td>0.8200</td>\n",
       "      <td>0.000335</td>\n",
       "      <td>70</td>\n",
       "    </tr>\n",
       "    <tr>\n",
       "      <th>4</th>\n",
       "      <td>60534</td>\n",
       "      <td>0.000000</td>\n",
       "      <td>0.974906</td>\n",
       "      <td>132.722</td>\n",
       "      <td>0.0811</td>\n",
       "      <td>Afraid</td>\n",
       "      <td>6.0</td>\n",
       "      <td>0.856</td>\n",
       "      <td>215346.0</td>\n",
       "      <td>5.0</td>\n",
       "      <td>...</td>\n",
       "      <td>4.0</td>\n",
       "      <td>258893.0</td>\n",
       "      <td>1.0</td>\n",
       "      <td>0.0</td>\n",
       "      <td>0.000</td>\n",
       "      <td>0.631</td>\n",
       "      <td>1.0</td>\n",
       "      <td>0.0221</td>\n",
       "      <td>0.000000</td>\n",
       "      <td>78</td>\n",
       "    </tr>\n",
       "  </tbody>\n",
       "</table>\n",
       "<p>5 rows × 62 columns</p>\n",
       "</div>"
      ],
      "text/plain": [
       "      id  emotional_charge_2  groove_efficiency_1  beat_frequency_1  \\\n",
       "0  76339            0.482850             1.169231            80.018   \n",
       "1  80006            0.267862             1.321321           147.966   \n",
       "2  83501            0.242606             1.285319           142.980   \n",
       "3  81530            0.426400             1.279435           123.063   \n",
       "4  60534            0.000000             0.974906           132.722   \n",
       "\n",
       "   organic_texture_2              composition_label_0  harmonic_scale_1  \\\n",
       "0             0.0201  Country Stuff (feat. Jake Owen)               1.0   \n",
       "1             0.3340                         Solitude               6.0   \n",
       "2             0.1110  BDFFRNT (Saved from Conformity)               4.0   \n",
       "3             0.1960         Headlights (feat. Ilsey)               5.0   \n",
       "4             0.0811                           Afraid               6.0   \n",
       "\n",
       "   intensity_index_0  duration_ms_0  album_name_length  ...  time_signature_0  \\\n",
       "0              0.789       154586.0                NaN  ...               4.0   \n",
       "1              0.715        46874.0               15.0  ...               4.0   \n",
       "2                NaN       264665.0                7.0  ...               4.0   \n",
       "3              0.685       209208.0                5.0  ...               4.0   \n",
       "4              0.856       215346.0                5.0  ...               4.0   \n",
       "\n",
       "   duration_ms_1  harmonic_scale_0 time_signature_2 rhythmic_cohesion_2  \\\n",
       "0       161853.0               7.0              4.0                 NaN   \n",
       "1       155619.0               1.0              4.0               0.843   \n",
       "2       209378.0               6.0              4.0                 NaN   \n",
       "3       219043.0              11.0              4.0               0.702   \n",
       "4       258893.0               1.0              0.0               0.000   \n",
       "\n",
       "  emotional_resonance_0  harmonic_scale_2  intensity_index_2  \\\n",
       "0                 0.607               7.0             0.7250   \n",
       "1                 0.783               4.0                NaN   \n",
       "2                 0.211              10.0             0.6020   \n",
       "3                 0.369               NaN             0.8200   \n",
       "4                 0.631               1.0             0.0221   \n",
       "\n",
       "   instrumental_density_0  target  \n",
       "0                0.000000      74  \n",
       "1                0.043200       2  \n",
       "2                0.000000      35  \n",
       "3                0.000335      70  \n",
       "4                0.000000      78  \n",
       "\n",
       "[5 rows x 62 columns]"
      ]
     },
     "execution_count": 3,
     "metadata": {},
     "output_type": "execute_result"
    }
   ],
   "source": [
    "df.head()"
   ]
  },
  {
   "cell_type": "code",
   "execution_count": 4,
   "id": "f4238bdd",
   "metadata": {
    "execution": {
     "iopub.execute_input": "2025-04-30T12:44:10.149898Z",
     "iopub.status.busy": "2025-04-30T12:44:10.149469Z",
     "iopub.status.idle": "2025-04-30T12:44:10.176728Z",
     "shell.execute_reply": "2025-04-30T12:44:10.175587Z"
    },
    "papermill": {
     "duration": 0.036429,
     "end_time": "2025-04-30T12:44:10.178582",
     "exception": false,
     "start_time": "2025-04-30T12:44:10.142153",
     "status": "completed"
    },
    "tags": []
   },
   "outputs": [
    {
     "data": {
      "text/html": [
       "<div>\n",
       "<style scoped>\n",
       "    .dataframe tbody tr th:only-of-type {\n",
       "        vertical-align: middle;\n",
       "    }\n",
       "\n",
       "    .dataframe tbody tr th {\n",
       "        vertical-align: top;\n",
       "    }\n",
       "\n",
       "    .dataframe thead th {\n",
       "        text-align: right;\n",
       "    }\n",
       "</style>\n",
       "<table border=\"1\" class=\"dataframe\">\n",
       "  <thead>\n",
       "    <tr style=\"text-align: right;\">\n",
       "      <th></th>\n",
       "      <th>id</th>\n",
       "      <th>emotional_charge_2</th>\n",
       "      <th>groove_efficiency_1</th>\n",
       "      <th>beat_frequency_1</th>\n",
       "      <th>organic_texture_2</th>\n",
       "      <th>composition_label_0</th>\n",
       "      <th>harmonic_scale_1</th>\n",
       "      <th>intensity_index_0</th>\n",
       "      <th>duration_ms_0</th>\n",
       "      <th>album_name_length</th>\n",
       "      <th>...</th>\n",
       "      <th>emotional_resonance_2</th>\n",
       "      <th>time_signature_0</th>\n",
       "      <th>duration_ms_1</th>\n",
       "      <th>harmonic_scale_0</th>\n",
       "      <th>time_signature_2</th>\n",
       "      <th>rhythmic_cohesion_2</th>\n",
       "      <th>emotional_resonance_0</th>\n",
       "      <th>harmonic_scale_2</th>\n",
       "      <th>intensity_index_2</th>\n",
       "      <th>instrumental_density_0</th>\n",
       "    </tr>\n",
       "  </thead>\n",
       "  <tbody>\n",
       "    <tr>\n",
       "      <th>0</th>\n",
       "      <td>25174</td>\n",
       "      <td>0.600480</td>\n",
       "      <td>1.543590</td>\n",
       "      <td>124.008</td>\n",
       "      <td>0.0729</td>\n",
       "      <td>Dr.Q</td>\n",
       "      <td>1.0</td>\n",
       "      <td>0.763</td>\n",
       "      <td>23032.0</td>\n",
       "      <td>4.0</td>\n",
       "      <td>...</td>\n",
       "      <td>0.834</td>\n",
       "      <td>4.0</td>\n",
       "      <td>253987.0</td>\n",
       "      <td>4.0</td>\n",
       "      <td>4.0</td>\n",
       "      <td>0.604</td>\n",
       "      <td>0.2050</td>\n",
       "      <td>0.0</td>\n",
       "      <td>0.720</td>\n",
       "      <td>0.165000</td>\n",
       "    </tr>\n",
       "    <tr>\n",
       "      <th>1</th>\n",
       "      <td>38453</td>\n",
       "      <td>NaN</td>\n",
       "      <td>0.722420</td>\n",
       "      <td>129.942</td>\n",
       "      <td>0.0105</td>\n",
       "      <td>Start A Party</td>\n",
       "      <td>11.0</td>\n",
       "      <td>0.801</td>\n",
       "      <td>215466.0</td>\n",
       "      <td>20.0</td>\n",
       "      <td>...</td>\n",
       "      <td>0.216</td>\n",
       "      <td>4.0</td>\n",
       "      <td>267626.0</td>\n",
       "      <td>5.0</td>\n",
       "      <td>4.0</td>\n",
       "      <td>0.881</td>\n",
       "      <td>0.2610</td>\n",
       "      <td>1.0</td>\n",
       "      <td>0.496</td>\n",
       "      <td>0.000000</td>\n",
       "    </tr>\n",
       "    <tr>\n",
       "      <th>2</th>\n",
       "      <td>29013</td>\n",
       "      <td>0.461916</td>\n",
       "      <td>0.757962</td>\n",
       "      <td>83.000</td>\n",
       "      <td>0.2700</td>\n",
       "      <td>Sombras - Live</td>\n",
       "      <td>2.0</td>\n",
       "      <td>0.561</td>\n",
       "      <td>252261.0</td>\n",
       "      <td>44.0</td>\n",
       "      <td>...</td>\n",
       "      <td>0.546</td>\n",
       "      <td>4.0</td>\n",
       "      <td>226626.0</td>\n",
       "      <td>0.0</td>\n",
       "      <td>4.0</td>\n",
       "      <td>0.555</td>\n",
       "      <td>0.0555</td>\n",
       "      <td>0.0</td>\n",
       "      <td>0.846</td>\n",
       "      <td>0.002760</td>\n",
       "    </tr>\n",
       "    <tr>\n",
       "      <th>3</th>\n",
       "      <td>57463</td>\n",
       "      <td>0.144236</td>\n",
       "      <td>0.923977</td>\n",
       "      <td>183.991</td>\n",
       "      <td>0.1210</td>\n",
       "      <td>Tennis Court</td>\n",
       "      <td>2.0</td>\n",
       "      <td>NaN</td>\n",
       "      <td>198907.0</td>\n",
       "      <td>23.0</td>\n",
       "      <td>...</td>\n",
       "      <td>0.337</td>\n",
       "      <td>4.0</td>\n",
       "      <td>234286.0</td>\n",
       "      <td>0.0</td>\n",
       "      <td>4.0</td>\n",
       "      <td>0.674</td>\n",
       "      <td>0.4040</td>\n",
       "      <td>7.0</td>\n",
       "      <td>0.428</td>\n",
       "      <td>0.000194</td>\n",
       "    </tr>\n",
       "    <tr>\n",
       "      <th>4</th>\n",
       "      <td>51264</td>\n",
       "      <td>0.629832</td>\n",
       "      <td>1.473795</td>\n",
       "      <td>201.277</td>\n",
       "      <td>0.0610</td>\n",
       "      <td>La Cumbia Del Lazo</td>\n",
       "      <td>10.0</td>\n",
       "      <td>0.716</td>\n",
       "      <td>158720.0</td>\n",
       "      <td>NaN</td>\n",
       "      <td>...</td>\n",
       "      <td>0.966</td>\n",
       "      <td>4.0</td>\n",
       "      <td>188520.0</td>\n",
       "      <td>8.0</td>\n",
       "      <td>4.0</td>\n",
       "      <td>0.511</td>\n",
       "      <td>0.9620</td>\n",
       "      <td>10.0</td>\n",
       "      <td>0.652</td>\n",
       "      <td>0.000115</td>\n",
       "    </tr>\n",
       "  </tbody>\n",
       "</table>\n",
       "<p>5 rows × 61 columns</p>\n",
       "</div>"
      ],
      "text/plain": [
       "      id  emotional_charge_2  groove_efficiency_1  beat_frequency_1  \\\n",
       "0  25174            0.600480             1.543590           124.008   \n",
       "1  38453                 NaN             0.722420           129.942   \n",
       "2  29013            0.461916             0.757962            83.000   \n",
       "3  57463            0.144236             0.923977           183.991   \n",
       "4  51264            0.629832             1.473795           201.277   \n",
       "\n",
       "   organic_texture_2 composition_label_0  harmonic_scale_1  intensity_index_0  \\\n",
       "0             0.0729                Dr.Q               1.0              0.763   \n",
       "1             0.0105       Start A Party              11.0              0.801   \n",
       "2             0.2700      Sombras - Live               2.0              0.561   \n",
       "3             0.1210        Tennis Court               2.0                NaN   \n",
       "4             0.0610  La Cumbia Del Lazo              10.0              0.716   \n",
       "\n",
       "   duration_ms_0  album_name_length  ...  emotional_resonance_2  \\\n",
       "0        23032.0                4.0  ...                  0.834   \n",
       "1       215466.0               20.0  ...                  0.216   \n",
       "2       252261.0               44.0  ...                  0.546   \n",
       "3       198907.0               23.0  ...                  0.337   \n",
       "4       158720.0                NaN  ...                  0.966   \n",
       "\n",
       "   time_signature_0  duration_ms_1 harmonic_scale_0 time_signature_2  \\\n",
       "0               4.0       253987.0              4.0              4.0   \n",
       "1               4.0       267626.0              5.0              4.0   \n",
       "2               4.0       226626.0              0.0              4.0   \n",
       "3               4.0       234286.0              0.0              4.0   \n",
       "4               4.0       188520.0              8.0              4.0   \n",
       "\n",
       "  rhythmic_cohesion_2  emotional_resonance_0  harmonic_scale_2  \\\n",
       "0               0.604                 0.2050               0.0   \n",
       "1               0.881                 0.2610               1.0   \n",
       "2               0.555                 0.0555               0.0   \n",
       "3               0.674                 0.4040               7.0   \n",
       "4               0.511                 0.9620              10.0   \n",
       "\n",
       "   intensity_index_2  instrumental_density_0  \n",
       "0              0.720                0.165000  \n",
       "1              0.496                0.000000  \n",
       "2              0.846                0.002760  \n",
       "3              0.428                0.000194  \n",
       "4              0.652                0.000115  \n",
       "\n",
       "[5 rows x 61 columns]"
      ]
     },
     "execution_count": 4,
     "metadata": {},
     "output_type": "execute_result"
    }
   ],
   "source": [
    "test.head()"
   ]
  },
  {
   "cell_type": "markdown",
   "id": "972871af",
   "metadata": {
    "papermill": {
     "duration": 0.00681,
     "end_time": "2025-04-30T12:44:10.192336",
     "exception": false,
     "start_time": "2025-04-30T12:44:10.185526",
     "status": "completed"
    },
    "tags": []
   },
   "source": [
    "# EDA"
   ]
  },
  {
   "cell_type": "markdown",
   "id": "798ee87e",
   "metadata": {
    "papermill": {
     "duration": 0.006414,
     "end_time": "2025-04-30T12:44:10.206331",
     "exception": false,
     "start_time": "2025-04-30T12:44:10.199917",
     "status": "completed"
    },
    "tags": []
   },
   "source": [
    "## Dataset Overview"
   ]
  },
  {
   "cell_type": "code",
   "execution_count": 5,
   "id": "a54509a9",
   "metadata": {
    "execution": {
     "iopub.execute_input": "2025-04-30T12:44:10.220956Z",
     "iopub.status.busy": "2025-04-30T12:44:10.220408Z",
     "iopub.status.idle": "2025-04-30T12:44:10.227053Z",
     "shell.execute_reply": "2025-04-30T12:44:10.225733Z"
    },
    "papermill": {
     "duration": 0.016202,
     "end_time": "2025-04-30T12:44:10.229136",
     "exception": false,
     "start_time": "2025-04-30T12:44:10.212934",
     "status": "completed"
    },
    "tags": []
   },
   "outputs": [
    {
     "data": {
      "text/plain": [
       "(61609, 62)"
      ]
     },
     "execution_count": 5,
     "metadata": {},
     "output_type": "execute_result"
    }
   ],
   "source": [
    "df.shape"
   ]
  },
  {
   "cell_type": "code",
   "execution_count": 6,
   "id": "7df2a0ce",
   "metadata": {
    "execution": {
     "iopub.execute_input": "2025-04-30T12:44:10.244617Z",
     "iopub.status.busy": "2025-04-30T12:44:10.244233Z",
     "iopub.status.idle": "2025-04-30T12:44:10.323648Z",
     "shell.execute_reply": "2025-04-30T12:44:10.322196Z"
    },
    "papermill": {
     "duration": 0.089798,
     "end_time": "2025-04-30T12:44:10.325820",
     "exception": false,
     "start_time": "2025-04-30T12:44:10.236022",
     "status": "completed"
    },
    "tags": []
   },
   "outputs": [
    {
     "name": "stdout",
     "output_type": "stream",
     "text": [
      "<class 'pandas.core.frame.DataFrame'>\n",
      "RangeIndex: 61609 entries, 0 to 61608\n",
      "Data columns (total 62 columns):\n",
      " #   Column                      Non-Null Count  Dtype  \n",
      "---  ------                      --------------  -----  \n",
      " 0   id                          61609 non-null  int64  \n",
      " 1   emotional_charge_2          59167 non-null  float64\n",
      " 2   groove_efficiency_1         61429 non-null  float64\n",
      " 3   beat_frequency_1            61223 non-null  float64\n",
      " 4   organic_texture_2           61226 non-null  float64\n",
      " 5   composition_label_0         58660 non-null  object \n",
      " 6   harmonic_scale_1            58304 non-null  float64\n",
      " 7   intensity_index_0           55638 non-null  float64\n",
      " 8   duration_ms_0               60320 non-null  float64\n",
      " 9   album_name_length           52015 non-null  float64\n",
      " 10  beat_frequency_0            51878 non-null  float64\n",
      " 11  beat_frequency_2            59843 non-null  float64\n",
      " 12  artist_count                58348 non-null  float64\n",
      " 13  composition_label_1         60149 non-null  object \n",
      " 14  publication_timestamp       60101 non-null  object \n",
      " 15  weekday_of_release          56551 non-null  object \n",
      " 16  album_component_count       57246 non-null  float64\n",
      " 17  emotional_charge_1          57595 non-null  float64\n",
      " 18  emotional_charge_0          55505 non-null  float64\n",
      " 19  tonal_mode_2                59800 non-null  float64\n",
      " 20  key_variety                 56204 non-null  float64\n",
      " 21  performance_authenticity_2  59695 non-null  float64\n",
      " 22  performance_authenticity_0  59504 non-null  float64\n",
      " 23  season_of_release           61136 non-null  object \n",
      " 24  time_signature_1            59746 non-null  float64\n",
      " 25  duration_ms_2               60481 non-null  float64\n",
      " 26  lunar_phase                 60608 non-null  object \n",
      " 27  instrumental_density_2      57455 non-null  float64\n",
      " 28  organic_texture_0           57272 non-null  float64\n",
      " 29  creator_collective          52695 non-null  object \n",
      " 30  vocal_presence_2            59075 non-null  float64\n",
      " 31  tonal_mode_1                57211 non-null  float64\n",
      " 32  vocal_presence_1            60744 non-null  float64\n",
      " 33  vocal_presence_0            61499 non-null  float64\n",
      " 34  intensity_index_1           59491 non-null  float64\n",
      " 35  organic_immersion_0         57766 non-null  float64\n",
      " 36  tonal_mode_0                61328 non-null  float64\n",
      " 37  groove_efficiency_2         55863 non-null  float64\n",
      " 38  instrumental_density_1      54132 non-null  float64\n",
      " 39  organic_immersion_2         55974 non-null  float64\n",
      " 40  duration_consistency        58532 non-null  float64\n",
      " 41  composition_label_2         57146 non-null  object \n",
      " 42  organic_texture_1           59481 non-null  float64\n",
      " 43  rhythmic_cohesion_0         54426 non-null  float64\n",
      " 44  track_identifier            57173 non-null  object \n",
      " 45  emotional_resonance_1       59642 non-null  float64\n",
      " 46  rhythmic_cohesion_1         60610 non-null  float64\n",
      " 47  performance_authenticity_1  57924 non-null  float64\n",
      " 48  tempo_volatility            51192 non-null  float64\n",
      " 49  organic_immersion_1         61471 non-null  float64\n",
      " 50  groove_efficiency_0         60133 non-null  float64\n",
      " 51  emotional_resonance_2       56733 non-null  float64\n",
      " 52  time_signature_0            59704 non-null  float64\n",
      " 53  duration_ms_1               52504 non-null  float64\n",
      " 54  harmonic_scale_0            53925 non-null  float64\n",
      " 55  time_signature_2            58455 non-null  float64\n",
      " 56  rhythmic_cohesion_2         56049 non-null  float64\n",
      " 57  emotional_resonance_0       60063 non-null  float64\n",
      " 58  harmonic_scale_2            57142 non-null  float64\n",
      " 59  intensity_index_2           60916 non-null  float64\n",
      " 60  instrumental_density_0      60900 non-null  float64\n",
      " 61  target                      61609 non-null  int64  \n",
      "dtypes: float64(51), int64(2), object(9)\n",
      "memory usage: 29.1+ MB\n"
     ]
    }
   ],
   "source": [
    "df.info()"
   ]
  },
  {
   "cell_type": "code",
   "execution_count": 7,
   "id": "ad599823",
   "metadata": {
    "execution": {
     "iopub.execute_input": "2025-04-30T12:44:10.342100Z",
     "iopub.status.busy": "2025-04-30T12:44:10.341716Z",
     "iopub.status.idle": "2025-04-30T12:44:10.656809Z",
     "shell.execute_reply": "2025-04-30T12:44:10.654182Z"
    },
    "papermill": {
     "duration": 0.326277,
     "end_time": "2025-04-30T12:44:10.659325",
     "exception": false,
     "start_time": "2025-04-30T12:44:10.333048",
     "status": "completed"
    },
    "tags": []
   },
   "outputs": [
    {
     "data": {
      "text/html": [
       "<div>\n",
       "<style scoped>\n",
       "    .dataframe tbody tr th:only-of-type {\n",
       "        vertical-align: middle;\n",
       "    }\n",
       "\n",
       "    .dataframe tbody tr th {\n",
       "        vertical-align: top;\n",
       "    }\n",
       "\n",
       "    .dataframe thead th {\n",
       "        text-align: right;\n",
       "    }\n",
       "</style>\n",
       "<table border=\"1\" class=\"dataframe\">\n",
       "  <thead>\n",
       "    <tr style=\"text-align: right;\">\n",
       "      <th></th>\n",
       "      <th>id</th>\n",
       "      <th>emotional_charge_2</th>\n",
       "      <th>groove_efficiency_1</th>\n",
       "      <th>beat_frequency_1</th>\n",
       "      <th>organic_texture_2</th>\n",
       "      <th>harmonic_scale_1</th>\n",
       "      <th>intensity_index_0</th>\n",
       "      <th>duration_ms_0</th>\n",
       "      <th>album_name_length</th>\n",
       "      <th>beat_frequency_0</th>\n",
       "      <th>...</th>\n",
       "      <th>time_signature_0</th>\n",
       "      <th>duration_ms_1</th>\n",
       "      <th>harmonic_scale_0</th>\n",
       "      <th>time_signature_2</th>\n",
       "      <th>rhythmic_cohesion_2</th>\n",
       "      <th>emotional_resonance_0</th>\n",
       "      <th>harmonic_scale_2</th>\n",
       "      <th>intensity_index_2</th>\n",
       "      <th>instrumental_density_0</th>\n",
       "      <th>target</th>\n",
       "    </tr>\n",
       "  </thead>\n",
       "  <tbody>\n",
       "    <tr>\n",
       "      <th>count</th>\n",
       "      <td>61609.000000</td>\n",
       "      <td>59167.000000</td>\n",
       "      <td>61429.000000</td>\n",
       "      <td>61223.000000</td>\n",
       "      <td>61226.000000</td>\n",
       "      <td>58304.000000</td>\n",
       "      <td>55638.000000</td>\n",
       "      <td>6.032000e+04</td>\n",
       "      <td>52015.000000</td>\n",
       "      <td>51878.000000</td>\n",
       "      <td>...</td>\n",
       "      <td>59704.000000</td>\n",
       "      <td>5.250400e+04</td>\n",
       "      <td>53925.000000</td>\n",
       "      <td>58455.000000</td>\n",
       "      <td>56049.000000</td>\n",
       "      <td>60063.000000</td>\n",
       "      <td>57142.000000</td>\n",
       "      <td>60916.000000</td>\n",
       "      <td>60900.000000</td>\n",
       "      <td>61609.000000</td>\n",
       "    </tr>\n",
       "    <tr>\n",
       "      <th>mean</th>\n",
       "      <td>51390.780162</td>\n",
       "      <td>0.316976</td>\n",
       "      <td>1.238856</td>\n",
       "      <td>121.022910</td>\n",
       "      <td>0.274748</td>\n",
       "      <td>5.192594</td>\n",
       "      <td>0.604426</td>\n",
       "      <td>2.011315e+05</td>\n",
       "      <td>18.225723</td>\n",
       "      <td>119.133973</td>\n",
       "      <td>...</td>\n",
       "      <td>3.874849</td>\n",
       "      <td>2.110477e+05</td>\n",
       "      <td>5.212499</td>\n",
       "      <td>3.901274</td>\n",
       "      <td>0.612252</td>\n",
       "      <td>0.458851</td>\n",
       "      <td>5.288894</td>\n",
       "      <td>0.616045</td>\n",
       "      <td>0.148391</td>\n",
       "      <td>52.067328</td>\n",
       "    </tr>\n",
       "    <tr>\n",
       "      <th>std</th>\n",
       "      <td>29659.344472</td>\n",
       "      <td>0.212777</td>\n",
       "      <td>6.171617</td>\n",
       "      <td>30.467061</td>\n",
       "      <td>0.303020</td>\n",
       "      <td>3.629153</td>\n",
       "      <td>0.243943</td>\n",
       "      <td>1.100738e+05</td>\n",
       "      <td>14.404713</td>\n",
       "      <td>32.067971</td>\n",
       "      <td>...</td>\n",
       "      <td>0.564558</td>\n",
       "      <td>8.911099e+04</td>\n",
       "      <td>3.571288</td>\n",
       "      <td>0.465295</td>\n",
       "      <td>0.179591</td>\n",
       "      <td>0.261196</td>\n",
       "      <td>3.567118</td>\n",
       "      <td>0.230109</td>\n",
       "      <td>0.306915</td>\n",
       "      <td>21.569248</td>\n",
       "    </tr>\n",
       "    <tr>\n",
       "      <th>min</th>\n",
       "      <td>1.000000</td>\n",
       "      <td>0.000000</td>\n",
       "      <td>0.000000</td>\n",
       "      <td>0.000000</td>\n",
       "      <td>0.000000</td>\n",
       "      <td>0.000000</td>\n",
       "      <td>0.000000</td>\n",
       "      <td>1.485000e+03</td>\n",
       "      <td>1.000000</td>\n",
       "      <td>0.000000</td>\n",
       "      <td>...</td>\n",
       "      <td>0.000000</td>\n",
       "      <td>4.120000e+03</td>\n",
       "      <td>0.000000</td>\n",
       "      <td>0.000000</td>\n",
       "      <td>0.000000</td>\n",
       "      <td>0.000000</td>\n",
       "      <td>0.000000</td>\n",
       "      <td>0.000000</td>\n",
       "      <td>0.000000</td>\n",
       "      <td>1.000000</td>\n",
       "    </tr>\n",
       "    <tr>\n",
       "      <th>25%</th>\n",
       "      <td>25832.000000</td>\n",
       "      <td>0.143877</td>\n",
       "      <td>0.730914</td>\n",
       "      <td>96.138000</td>\n",
       "      <td>0.027125</td>\n",
       "      <td>2.000000</td>\n",
       "      <td>0.447000</td>\n",
       "      <td>1.482340e+05</td>\n",
       "      <td>9.000000</td>\n",
       "      <td>94.802250</td>\n",
       "      <td>...</td>\n",
       "      <td>4.000000</td>\n",
       "      <td>1.682000e+05</td>\n",
       "      <td>2.000000</td>\n",
       "      <td>4.000000</td>\n",
       "      <td>0.506000</td>\n",
       "      <td>0.243000</td>\n",
       "      <td>2.000000</td>\n",
       "      <td>0.477000</td>\n",
       "      <td>0.000000</td>\n",
       "      <td>37.000000</td>\n",
       "    </tr>\n",
       "    <tr>\n",
       "      <th>50%</th>\n",
       "      <td>51410.000000</td>\n",
       "      <td>0.291060</td>\n",
       "      <td>1.004894</td>\n",
       "      <td>120.012000</td>\n",
       "      <td>0.141000</td>\n",
       "      <td>5.000000</td>\n",
       "      <td>0.633000</td>\n",
       "      <td>1.959215e+05</td>\n",
       "      <td>14.000000</td>\n",
       "      <td>119.893000</td>\n",
       "      <td>...</td>\n",
       "      <td>4.000000</td>\n",
       "      <td>2.029730e+05</td>\n",
       "      <td>5.000000</td>\n",
       "      <td>4.000000</td>\n",
       "      <td>0.630000</td>\n",
       "      <td>0.449000</td>\n",
       "      <td>5.000000</td>\n",
       "      <td>0.646000</td>\n",
       "      <td>0.000019</td>\n",
       "      <td>57.000000</td>\n",
       "    </tr>\n",
       "    <tr>\n",
       "      <th>75%</th>\n",
       "      <td>77069.000000</td>\n",
       "      <td>0.466860</td>\n",
       "      <td>1.358251</td>\n",
       "      <td>141.401000</td>\n",
       "      <td>0.454000</td>\n",
       "      <td>8.000000</td>\n",
       "      <td>0.803000</td>\n",
       "      <td>2.402488e+05</td>\n",
       "      <td>23.000000</td>\n",
       "      <td>140.023000</td>\n",
       "      <td>...</td>\n",
       "      <td>4.000000</td>\n",
       "      <td>2.413605e+05</td>\n",
       "      <td>8.000000</td>\n",
       "      <td>4.000000</td>\n",
       "      <td>0.745000</td>\n",
       "      <td>0.663000</td>\n",
       "      <td>8.000000</td>\n",
       "      <td>0.791000</td>\n",
       "      <td>0.024600</td>\n",
       "      <td>69.000000</td>\n",
       "    </tr>\n",
       "    <tr>\n",
       "      <th>max</th>\n",
       "      <td>102681.000000</td>\n",
       "      <td>0.976063</td>\n",
       "      <td>654.000000</td>\n",
       "      <td>239.983000</td>\n",
       "      <td>0.996000</td>\n",
       "      <td>11.000000</td>\n",
       "      <td>1.000000</td>\n",
       "      <td>3.664274e+06</td>\n",
       "      <td>199.000000</td>\n",
       "      <td>235.998000</td>\n",
       "      <td>...</td>\n",
       "      <td>5.000000</td>\n",
       "      <td>3.550973e+06</td>\n",
       "      <td>11.000000</td>\n",
       "      <td>5.000000</td>\n",
       "      <td>0.979000</td>\n",
       "      <td>1.000000</td>\n",
       "      <td>11.000000</td>\n",
       "      <td>1.000000</td>\n",
       "      <td>1.000000</td>\n",
       "      <td>100.000000</td>\n",
       "    </tr>\n",
       "  </tbody>\n",
       "</table>\n",
       "<p>8 rows × 53 columns</p>\n",
       "</div>"
      ],
      "text/plain": [
       "                  id  emotional_charge_2  groove_efficiency_1  \\\n",
       "count   61609.000000        59167.000000         61429.000000   \n",
       "mean    51390.780162            0.316976             1.238856   \n",
       "std     29659.344472            0.212777             6.171617   \n",
       "min         1.000000            0.000000             0.000000   \n",
       "25%     25832.000000            0.143877             0.730914   \n",
       "50%     51410.000000            0.291060             1.004894   \n",
       "75%     77069.000000            0.466860             1.358251   \n",
       "max    102681.000000            0.976063           654.000000   \n",
       "\n",
       "       beat_frequency_1  organic_texture_2  harmonic_scale_1  \\\n",
       "count      61223.000000       61226.000000      58304.000000   \n",
       "mean         121.022910           0.274748          5.192594   \n",
       "std           30.467061           0.303020          3.629153   \n",
       "min            0.000000           0.000000          0.000000   \n",
       "25%           96.138000           0.027125          2.000000   \n",
       "50%          120.012000           0.141000          5.000000   \n",
       "75%          141.401000           0.454000          8.000000   \n",
       "max          239.983000           0.996000         11.000000   \n",
       "\n",
       "       intensity_index_0  duration_ms_0  album_name_length  beat_frequency_0  \\\n",
       "count       55638.000000   6.032000e+04       52015.000000      51878.000000   \n",
       "mean            0.604426   2.011315e+05          18.225723        119.133973   \n",
       "std             0.243943   1.100738e+05          14.404713         32.067971   \n",
       "min             0.000000   1.485000e+03           1.000000          0.000000   \n",
       "25%             0.447000   1.482340e+05           9.000000         94.802250   \n",
       "50%             0.633000   1.959215e+05          14.000000        119.893000   \n",
       "75%             0.803000   2.402488e+05          23.000000        140.023000   \n",
       "max             1.000000   3.664274e+06         199.000000        235.998000   \n",
       "\n",
       "       ...  time_signature_0  duration_ms_1  harmonic_scale_0  \\\n",
       "count  ...      59704.000000   5.250400e+04      53925.000000   \n",
       "mean   ...          3.874849   2.110477e+05          5.212499   \n",
       "std    ...          0.564558   8.911099e+04          3.571288   \n",
       "min    ...          0.000000   4.120000e+03          0.000000   \n",
       "25%    ...          4.000000   1.682000e+05          2.000000   \n",
       "50%    ...          4.000000   2.029730e+05          5.000000   \n",
       "75%    ...          4.000000   2.413605e+05          8.000000   \n",
       "max    ...          5.000000   3.550973e+06         11.000000   \n",
       "\n",
       "       time_signature_2  rhythmic_cohesion_2  emotional_resonance_0  \\\n",
       "count      58455.000000         56049.000000           60063.000000   \n",
       "mean           3.901274             0.612252               0.458851   \n",
       "std            0.465295             0.179591               0.261196   \n",
       "min            0.000000             0.000000               0.000000   \n",
       "25%            4.000000             0.506000               0.243000   \n",
       "50%            4.000000             0.630000               0.449000   \n",
       "75%            4.000000             0.745000               0.663000   \n",
       "max            5.000000             0.979000               1.000000   \n",
       "\n",
       "       harmonic_scale_2  intensity_index_2  instrumental_density_0  \\\n",
       "count      57142.000000       60916.000000            60900.000000   \n",
       "mean           5.288894           0.616045                0.148391   \n",
       "std            3.567118           0.230109                0.306915   \n",
       "min            0.000000           0.000000                0.000000   \n",
       "25%            2.000000           0.477000                0.000000   \n",
       "50%            5.000000           0.646000                0.000019   \n",
       "75%            8.000000           0.791000                0.024600   \n",
       "max           11.000000           1.000000                1.000000   \n",
       "\n",
       "             target  \n",
       "count  61609.000000  \n",
       "mean      52.067328  \n",
       "std       21.569248  \n",
       "min        1.000000  \n",
       "25%       37.000000  \n",
       "50%       57.000000  \n",
       "75%       69.000000  \n",
       "max      100.000000  \n",
       "\n",
       "[8 rows x 53 columns]"
      ]
     },
     "execution_count": 7,
     "metadata": {},
     "output_type": "execute_result"
    }
   ],
   "source": [
    "df.describe()"
   ]
  },
  {
   "cell_type": "markdown",
   "id": "108609cc",
   "metadata": {
    "papermill": {
     "duration": 0.007159,
     "end_time": "2025-04-30T12:44:10.674105",
     "exception": false,
     "start_time": "2025-04-30T12:44:10.666946",
     "status": "completed"
    },
    "tags": []
   },
   "source": [
    "## Missing Values"
   ]
  },
  {
   "cell_type": "code",
   "execution_count": 8,
   "id": "317eab80",
   "metadata": {
    "execution": {
     "iopub.execute_input": "2025-04-30T12:44:10.690401Z",
     "iopub.status.busy": "2025-04-30T12:44:10.690027Z",
     "iopub.status.idle": "2025-04-30T12:44:10.740560Z",
     "shell.execute_reply": "2025-04-30T12:44:10.739446Z"
    },
    "papermill": {
     "duration": 0.060892,
     "end_time": "2025-04-30T12:44:10.742224",
     "exception": false,
     "start_time": "2025-04-30T12:44:10.681332",
     "status": "completed"
    },
    "tags": []
   },
   "outputs": [
    {
     "data": {
      "text/plain": [
       "id                           0\n",
       "emotional_charge_2        2442\n",
       "groove_efficiency_1        180\n",
       "beat_frequency_1           386\n",
       "organic_texture_2          383\n",
       "                          ... \n",
       "emotional_resonance_0     1546\n",
       "harmonic_scale_2          4467\n",
       "intensity_index_2          693\n",
       "instrumental_density_0     709\n",
       "target                       0\n",
       "Length: 62, dtype: int64"
      ]
     },
     "execution_count": 8,
     "metadata": {},
     "output_type": "execute_result"
    }
   ],
   "source": [
    "df.isnull().sum()"
   ]
  },
  {
   "cell_type": "code",
   "execution_count": 9,
   "id": "13f2d00c",
   "metadata": {
    "execution": {
     "iopub.execute_input": "2025-04-30T12:44:10.758469Z",
     "iopub.status.busy": "2025-04-30T12:44:10.758093Z",
     "iopub.status.idle": "2025-04-30T12:44:17.125440Z",
     "shell.execute_reply": "2025-04-30T12:44:17.124097Z"
    },
    "papermill": {
     "duration": 6.37806,
     "end_time": "2025-04-30T12:44:17.127741",
     "exception": false,
     "start_time": "2025-04-30T12:44:10.749681",
     "status": "completed"
    },
    "tags": []
   },
   "outputs": [
    {
     "data": {
      "image/png": "[encoded data removed]",
      "text/plain": [
       "<Figure size 1000x600 with 1 Axes>"
      ]
     },
     "metadata": {},
     "output_type": "display_data"
    }
   ],
   "source": [
    "import matplotlib.pyplot as plt\n",
    "import seaborn as sns\n",
    "\n",
    "plt.figure(figsize=(10, 6))\n",
    "sns.heatmap(df.isnull(), cmap=\"viridis\", cbar=False)\n",
    "plt.title(\"Missing Data Heatmap\")\n",
    "plt.show()"
   ]
  },
  {
   "cell_type": "markdown",
   "id": "0915d067",
   "metadata": {
    "papermill": {
     "duration": 0.010367,
     "end_time": "2025-04-30T12:44:17.148481",
     "exception": false,
     "start_time": "2025-04-30T12:44:17.138114",
     "status": "completed"
    },
    "tags": []
   },
   "source": [
    "# Handling Missing Values"
   ]
  },
  {
   "cell_type": "code",
   "execution_count": 10,
   "id": "ecd610ec",
   "metadata": {
    "execution": {
     "iopub.execute_input": "2025-04-30T12:44:17.171719Z",
     "iopub.status.busy": "2025-04-30T12:44:17.171132Z",
     "iopub.status.idle": "2025-04-30T12:44:17.188424Z",
     "shell.execute_reply": "2025-04-30T12:44:17.186913Z"
    },
    "papermill": {
     "duration": 0.031922,
     "end_time": "2025-04-30T12:44:17.191169",
     "exception": false,
     "start_time": "2025-04-30T12:44:17.159247",
     "status": "completed"
    },
    "tags": []
   },
   "outputs": [],
   "source": [
    "numerical_cols = list(df.select_dtypes(include=[\"float64\", \"int64\"]).columns)\n",
    "categorical_cols = list(df.select_dtypes(include=[\"object\"]).columns)\n",
    "numerical_cols.remove(\"target\")"
   ]
  },
  {
   "cell_type": "code",
   "execution_count": 11,
   "id": "3db7b81e",
   "metadata": {
    "execution": {
     "iopub.execute_input": "2025-04-30T12:44:17.213708Z",
     "iopub.status.busy": "2025-04-30T12:44:17.212998Z",
     "iopub.status.idle": "2025-04-30T12:44:17.726149Z",
     "shell.execute_reply": "2025-04-30T12:44:17.724949Z"
    },
    "papermill": {
     "duration": 0.526551,
     "end_time": "2025-04-30T12:44:17.728229",
     "exception": false,
     "start_time": "2025-04-30T12:44:17.201678",
     "status": "completed"
    },
    "tags": []
   },
   "outputs": [],
   "source": [
    "df[numerical_cols] = df[numerical_cols].fillna(df[numerical_cols].mean())\n",
    "df[categorical_cols] = df[categorical_cols].fillna(df[categorical_cols].mode().iloc[0])\n",
    "\n",
    "test[numerical_cols] = test[numerical_cols].fillna(df[numerical_cols].mean())\n",
    "test[categorical_cols] = test[categorical_cols].fillna(df[categorical_cols].mode().iloc[0])"
   ]
  },
  {
   "cell_type": "code",
   "execution_count": 12,
   "id": "106626db",
   "metadata": {
    "execution": {
     "iopub.execute_input": "2025-04-30T12:44:17.748851Z",
     "iopub.status.busy": "2025-04-30T12:44:17.748444Z",
     "iopub.status.idle": "2025-04-30T12:44:17.799182Z",
     "shell.execute_reply": "2025-04-30T12:44:17.797925Z"
    },
    "papermill": {
     "duration": 0.063192,
     "end_time": "2025-04-30T12:44:17.801220",
     "exception": false,
     "start_time": "2025-04-30T12:44:17.738028",
     "status": "completed"
    },
    "tags": []
   },
   "outputs": [
    {
     "data": {
      "text/plain": [
       "id                        0\n",
       "emotional_charge_2        0\n",
       "groove_efficiency_1       0\n",
       "beat_frequency_1          0\n",
       "organic_texture_2         0\n",
       "                         ..\n",
       "emotional_resonance_0     0\n",
       "harmonic_scale_2          0\n",
       "intensity_index_2         0\n",
       "instrumental_density_0    0\n",
       "target                    0\n",
       "Length: 62, dtype: int64"
      ]
     },
     "execution_count": 12,
     "metadata": {},
     "output_type": "execute_result"
    }
   ],
   "source": [
    "df.isnull().sum()"
   ]
  },
  {
   "cell_type": "markdown",
   "id": "acbfce87",
   "metadata": {
    "papermill": {
     "duration": 0.010085,
     "end_time": "2025-04-30T12:44:17.820996",
     "exception": false,
     "start_time": "2025-04-30T12:44:17.810911",
     "status": "completed"
    },
    "tags": []
   },
   "source": [
    "# Encoding Categorical Features"
   ]
  },
  {
   "cell_type": "code",
   "execution_count": 13,
   "id": "0e2e8bf2",
   "metadata": {
    "execution": {
     "iopub.execute_input": "2025-04-30T12:44:17.841663Z",
     "iopub.status.busy": "2025-04-30T12:44:17.841245Z",
     "iopub.status.idle": "2025-04-30T12:44:18.343391Z",
     "shell.execute_reply": "2025-04-30T12:44:18.341614Z"
    },
    "papermill": {
     "duration": 0.514803,
     "end_time": "2025-04-30T12:44:18.345415",
     "exception": false,
     "start_time": "2025-04-30T12:44:17.830612",
     "status": "completed"
    },
    "tags": []
   },
   "outputs": [],
   "source": [
    "from sklearn.model_selection import train_test_split\n",
    "from sklearn.preprocessing import OrdinalEncoder, StandardScaler\n",
    "from sklearn.linear_model import LinearRegression\n",
    "from sklearn.metrics import mean_squared_error"
   ]
  },
  {
   "cell_type": "code",
   "execution_count": 14,
   "id": "ad95bc91",
   "metadata": {
    "execution": {
     "iopub.execute_input": "2025-04-30T12:44:18.366835Z",
     "iopub.status.busy": "2025-04-30T12:44:18.366398Z",
     "iopub.status.idle": "2025-04-30T12:44:19.519966Z",
     "shell.execute_reply": "2025-04-30T12:44:19.518904Z"
    },
    "papermill": {
     "duration": 1.166589,
     "end_time": "2025-04-30T12:44:19.522246",
     "exception": false,
     "start_time": "2025-04-30T12:44:18.355657",
     "status": "completed"
    },
    "tags": []
   },
   "outputs": [],
   "source": [
    "encoder = OrdinalEncoder(handle_unknown='use_encoded_value', unknown_value=-1)\n",
    "df[categorical_cols] = encoder.fit_transform(df[categorical_cols])\n",
    "test[categorical_cols] = encoder.transform(test[categorical_cols])"
   ]
  },
  {
   "cell_type": "markdown",
   "id": "3c5058eb",
   "metadata": {
    "papermill": {
     "duration": 0.009369,
     "end_time": "2025-04-30T12:44:19.541406",
     "exception": false,
     "start_time": "2025-04-30T12:44:19.532037",
     "status": "completed"
    },
    "tags": []
   },
   "source": [
    "# Splitting Data"
   ]
  },
  {
   "cell_type": "code",
   "execution_count": 15,
   "id": "ca840c8b",
   "metadata": {
    "execution": {
     "iopub.execute_input": "2025-04-30T12:44:19.562322Z",
     "iopub.status.busy": "2025-04-30T12:44:19.561955Z",
     "iopub.status.idle": "2025-04-30T12:44:19.724432Z",
     "shell.execute_reply": "2025-04-30T12:44:19.723118Z"
    },
    "papermill": {
     "duration": 0.175266,
     "end_time": "2025-04-30T12:44:19.726409",
     "exception": false,
     "start_time": "2025-04-30T12:44:19.551143",
     "status": "completed"
    },
    "tags": []
   },
   "outputs": [],
   "source": [
    "X = df.drop(columns=[\"target\", \"id\"])\n",
    "y = df[\"target\"]\n",
    "X_train, X_val, y_train, y_val = train_test_split(X, y, test_size=0.2, random_state=42)"
   ]
  },
  {
   "cell_type": "markdown",
   "id": "4df5dcd5",
   "metadata": {
    "papermill": {
     "duration": 0.009168,
     "end_time": "2025-04-30T12:44:19.745480",
     "exception": false,
     "start_time": "2025-04-30T12:44:19.736312",
     "status": "completed"
    },
    "tags": []
   },
   "source": [
    "# Feature Scaling"
   ]
  },
  {
   "cell_type": "code",
   "execution_count": 16,
   "id": "d414407b",
   "metadata": {
    "execution": {
     "iopub.execute_input": "2025-04-30T12:44:19.766388Z",
     "iopub.status.busy": "2025-04-30T12:44:19.766045Z",
     "iopub.status.idle": "2025-04-30T12:44:19.918923Z",
     "shell.execute_reply": "2025-04-30T12:44:19.917661Z"
    },
    "papermill": {
     "duration": 0.166025,
     "end_time": "2025-04-30T12:44:19.921191",
     "exception": false,
     "start_time": "2025-04-30T12:44:19.755166",
     "status": "completed"
    },
    "tags": []
   },
   "outputs": [],
   "source": [
    "scaler = StandardScaler()\n",
    "X_train = scaler.fit_transform(X_train)\n",
    "X_val = scaler.transform(X_val)\n",
    "X_test = scaler.transform(test.drop(columns=[\"id\"]))"
   ]
  },
  {
   "cell_type": "markdown",
   "id": "65934b58",
   "metadata": {
    "papermill": {
     "duration": 0.00936,
     "end_time": "2025-04-30T12:44:19.940396",
     "exception": false,
     "start_time": "2025-04-30T12:44:19.931036",
     "status": "completed"
    },
    "tags": []
   },
   "source": [
    "# Model Training"
   ]
  },
  {
   "cell_type": "code",
   "execution_count": 17,
   "id": "68f274b5",
   "metadata": {
    "execution": {
     "iopub.execute_input": "2025-04-30T12:44:19.960993Z",
     "iopub.status.busy": "2025-04-30T12:44:19.960634Z",
     "iopub.status.idle": "2025-04-30T12:48:20.783122Z",
     "shell.execute_reply": "2025-04-30T12:48:20.781484Z"
    },
    "papermill": {
     "duration": 240.845933,
     "end_time": "2025-04-30T12:48:20.795929",
     "exception": false,
     "start_time": "2025-04-30T12:44:19.949996",
     "status": "completed"
    },
    "tags": []
   },
   "outputs": [
    {
     "data": {
      "text/html": [
       "<style>#sk-container-id-1 {color: black;background-color: white;}#sk-container-id-1 pre{padding: 0;}#sk-container-id-1 div.sk-toggleable {background-color: white;}#sk-container-id-1 label.sk-toggleable__label {cursor: pointer;display: block;width: 100%;margin-bottom: 0;padding: 0.3em;box-sizing: border-box;text-align: center;}#sk-container-id-1 label.sk-toggleable__label-arrow:before {content: \"▸\";float: left;margin-right: 0.25em;color: #696969;}#sk-container-id-1 label.sk-toggleable__label-arrow:hover:before {color: black;}#sk-container-id-1 div.sk-estimator:hover label.sk-toggleable__label-arrow:before {color: black;}#sk-container-id-1 div.sk-toggleable__content {max-height: 0;max-width: 0;overflow: hidden;text-align: left;background-color: #f0f8ff;}#sk-container-id-1 div.sk-toggleable__content pre {margin: 0.2em;color: black;border-radius: 0.25em;background-color: #f0f8ff;}#sk-container-id-1 input.sk-toggleable__control:checked~div.sk-toggleable__content {max-height: 200px;max-width: 100%;overflow: auto;}#sk-container-id-1 input.sk-toggleable__control:checked~label.sk-toggleable__label-arrow:before {content: \"▾\";}#sk-container-id-1 div.sk-estimator input.sk-toggleable__control:checked~label.sk-toggleable__label {background-color: #d4ebff;}#sk-container-id-1 div.sk-label input.sk-toggleable__control:checked~label.sk-toggleable__label {background-color: #d4ebff;}#sk-container-id-1 input.sk-hidden--visually {border: 0;clip: rect(1px 1px 1px 1px);clip: rect(1px, 1px, 1px, 1px);height: 1px;margin: -1px;overflow: hidden;padding: 0;position: absolute;width: 1px;}#sk-container-id-1 div.sk-estimator {font-family: monospace;background-color: #f0f8ff;border: 1px dotted black;border-radius: 0.25em;box-sizing: border-box;margin-bottom: 0.5em;}#sk-container-id-1 div.sk-estimator:hover {background-color: #d4ebff;}#sk-container-id-1 div.sk-parallel-item::after {content: \"\";width: 100%;border-bottom: 1px solid gray;flex-grow: 1;}#sk-container-id-1 div.sk-label:hover label.sk-toggleable__label {background-color: #d4ebff;}#sk-container-id-1 div.sk-serial::before {content: \"\";position: absolute;border-left: 1px solid gray;box-sizing: border-box;top: 0;bottom: 0;left: 50%;z-index: 0;}#sk-container-id-1 div.sk-serial {display: flex;flex-direction: column;align-items: center;background-color: white;padding-right: 0.2em;padding-left: 0.2em;position: relative;}#sk-container-id-1 div.sk-item {position: relative;z-index: 1;}#sk-container-id-1 div.sk-parallel {display: flex;align-items: stretch;justify-content: center;background-color: white;position: relative;}#sk-container-id-1 div.sk-item::before, #sk-container-id-1 div.sk-parallel-item::before {content: \"\";position: absolute;border-left: 1px solid gray;box-sizing: border-box;top: 0;bottom: 0;left: 50%;z-index: -1;}#sk-container-id-1 div.sk-parallel-item {display: flex;flex-direction: column;z-index: 1;position: relative;background-color: white;}#sk-container-id-1 div.sk-parallel-item:first-child::after {align-self: flex-end;width: 50%;}#sk-container-id-1 div.sk-parallel-item:last-child::after {align-self: flex-start;width: 50%;}#sk-container-id-1 div.sk-parallel-item:only-child::after {width: 0;}#sk-container-id-1 div.sk-dashed-wrapped {border: 1px dashed gray;margin: 0 0.4em 0.5em 0.4em;box-sizing: border-box;padding-bottom: 0.4em;background-color: white;}#sk-container-id-1 div.sk-label label {font-family: monospace;font-weight: bold;display: inline-block;line-height: 1.2em;}#sk-container-id-1 div.sk-label-container {text-align: center;}#sk-container-id-1 div.sk-container {/* jupyter's `normalize.less` sets `[hidden] { display: none; }` but bootstrap.min.css set `[hidden] { display: none !important; }` so we also need the `!important` here to be able to override the default hidden behavior on the sphinx rendered scikit-learn.org. See: https://github.com/scikit-learn/scikit-learn/issues/21755 */display: inline-block !important;position: relative;}#sk-container-id-1 div.sk-text-repr-fallback {display: none;}</style><div id=\"sk-container-id-1\" class=\"sk-top-container\"><div class=\"sk-text-repr-fallback\"><pre>RandomForestRegressor(random_state=42)</pre><b>In a Jupyter environment, please rerun this cell to show the HTML representation or trust the notebook. <br />On GitHub, the HTML representation is unable to render, please try loading this page with nbviewer.org.</b></div><div class=\"sk-container\" hidden><div class=\"sk-item\"><div class=\"sk-estimator sk-toggleable\"><input class=\"sk-toggleable__control sk-hidden--visually\" id=\"sk-estimator-id-1\" type=\"checkbox\" checked><label for=\"sk-estimator-id-1\" class=\"sk-toggleable__label sk-toggleable__label-arrow\">RandomForestRegressor</label><div class=\"sk-toggleable__content\"><pre>RandomForestRegressor(random_state=42)</pre></div></div></div></div></div>"
      ],
      "text/plain": [
       "RandomForestRegressor(random_state=42)"
      ]
     },
     "execution_count": 17,
     "metadata": {},
     "output_type": "execute_result"
    }
   ],
   "source": [
    "from sklearn.ensemble import RandomForestRegressor\n",
    "model = RandomForestRegressor(n_estimators=100, random_state=42)\n",
    "model.fit(X_train, y_train)"
   ]
  },
  {
   "cell_type": "markdown",
   "id": "d2f621c5",
   "metadata": {
    "papermill": {
     "duration": 0.009761,
     "end_time": "2025-04-30T12:48:20.816515",
     "exception": false,
     "start_time": "2025-04-30T12:48:20.806754",
     "status": "completed"
    },
    "tags": []
   },
   "source": [
    "# Evaluation"
   ]
  },
  {
   "cell_type": "code",
   "execution_count": 18,
   "id": "9f4c58cf",
   "metadata": {
    "execution": {
     "iopub.execute_input": "2025-04-30T12:48:20.838132Z",
     "iopub.status.busy": "2025-04-30T12:48:20.837743Z",
     "iopub.status.idle": "2025-04-30T12:48:21.387441Z",
     "shell.execute_reply": "2025-04-30T12:48:21.386055Z"
    },
    "papermill": {
     "duration": 0.563087,
     "end_time": "2025-04-30T12:48:21.389825",
     "exception": false,
     "start_time": "2025-04-30T12:48:20.826738",
     "status": "completed"
    },
    "tags": []
   },
   "outputs": [
    {
     "name": "stdout",
     "output_type": "stream",
     "text": [
      "Root Mean Squared Error: 11.21127702698852\n"
     ]
    }
   ],
   "source": [
    "y_pred = model.predict(X_val)\n",
    "rmse = np.sqrt(mean_squared_error(y_val, y_pred))\n",
    "print(\"Root Mean Squared Error:\", rmse)"
   ]
  },
  {
   "cell_type": "markdown",
   "id": "54f50c56",
   "metadata": {
    "papermill": {
     "duration": 0.011093,
     "end_time": "2025-04-30T12:48:21.413408",
     "exception": false,
     "start_time": "2025-04-30T12:48:21.402315",
     "status": "completed"
    },
    "tags": []
   },
   "source": [
    "# Predictions on Test Set"
   ]
  },
  {
   "cell_type": "code",
   "execution_count": 19,
   "id": "c4eef03c",
   "metadata": {
    "execution": {
     "iopub.execute_input": "2025-04-30T12:48:21.438060Z",
     "iopub.status.busy": "2025-04-30T12:48:21.437670Z",
     "iopub.status.idle": "2025-04-30T12:48:23.016569Z",
     "shell.execute_reply": "2025-04-30T12:48:23.015318Z"
    },
    "papermill": {
     "duration": 1.592966,
     "end_time": "2025-04-30T12:48:23.018810",
     "exception": false,
     "start_time": "2025-04-30T12:48:21.425844",
     "status": "completed"
    },
    "tags": []
   },
   "outputs": [],
   "source": [
    "test_predictions = model.predict(X_test)\n",
    "test[\"target\"] = test_predictions\n",
    "submission = test[[\"id\", \"target\"]]"
   ]
  },
  {
   "cell_type": "code",
   "execution_count": 20,
   "id": "fa78e5b7",
   "metadata": {
    "execution": {
     "iopub.execute_input": "2025-04-30T12:48:23.041169Z",
     "iopub.status.busy": "2025-04-30T12:48:23.040828Z",
     "iopub.status.idle": "2025-04-30T12:48:23.052391Z",
     "shell.execute_reply": "2025-04-30T12:48:23.051039Z"
    },
    "papermill": {
     "duration": 0.025157,
     "end_time": "2025-04-30T12:48:23.054254",
     "exception": false,
     "start_time": "2025-04-30T12:48:23.029097",
     "status": "completed"
    },
    "tags": []
   },
   "outputs": [
    {
     "data": {
      "text/html": [
       "<div>\n",
       "<style scoped>\n",
       "    .dataframe tbody tr th:only-of-type {\n",
       "        vertical-align: middle;\n",
       "    }\n",
       "\n",
       "    .dataframe tbody tr th {\n",
       "        vertical-align: top;\n",
       "    }\n",
       "\n",
       "    .dataframe thead th {\n",
       "        text-align: right;\n",
       "    }\n",
       "</style>\n",
       "<table border=\"1\" class=\"dataframe\">\n",
       "  <thead>\n",
       "    <tr style=\"text-align: right;\">\n",
       "      <th></th>\n",
       "      <th>id</th>\n",
       "      <th>target</th>\n",
       "    </tr>\n",
       "  </thead>\n",
       "  <tbody>\n",
       "    <tr>\n",
       "      <th>0</th>\n",
       "      <td>25174</td>\n",
       "      <td>49.33</td>\n",
       "    </tr>\n",
       "    <tr>\n",
       "      <th>1</th>\n",
       "      <td>38453</td>\n",
       "      <td>65.58</td>\n",
       "    </tr>\n",
       "    <tr>\n",
       "      <th>2</th>\n",
       "      <td>29013</td>\n",
       "      <td>66.96</td>\n",
       "    </tr>\n",
       "    <tr>\n",
       "      <th>3</th>\n",
       "      <td>57463</td>\n",
       "      <td>43.91</td>\n",
       "    </tr>\n",
       "    <tr>\n",
       "      <th>4</th>\n",
       "      <td>51264</td>\n",
       "      <td>45.83</td>\n",
       "    </tr>\n",
       "  </tbody>\n",
       "</table>\n",
       "</div>"
      ],
      "text/plain": [
       "      id  target\n",
       "0  25174   49.33\n",
       "1  38453   65.58\n",
       "2  29013   66.96\n",
       "3  57463   43.91\n",
       "4  51264   45.83"
      ]
     },
     "execution_count": 20,
     "metadata": {},
     "output_type": "execute_result"
    }
   ],
   "source": [
    "submission.head()"
   ]
  },
  {
   "cell_type": "code",
   "execution_count": 21,
   "id": "df4780c0",
   "metadata": {
    "execution": {
     "iopub.execute_input": "2025-04-30T12:48:23.077596Z",
     "iopub.status.busy": "2025-04-30T12:48:23.077149Z",
     "iopub.status.idle": "2025-04-30T12:48:23.140828Z",
     "shell.execute_reply": "2025-04-30T12:48:23.139600Z"
    },
    "papermill": {
     "duration": 0.077666,
     "end_time": "2025-04-30T12:48:23.142799",
     "exception": false,
     "start_time": "2025-04-30T12:48:23.065133",
     "status": "completed"
    },
    "tags": []
   },
   "outputs": [
    {
     "name": "stdout",
     "output_type": "stream",
     "text": [
      "Predictions saved to submission.csv\n"
     ]
    }
   ],
   "source": [
    "submission.to_csv(\"submission.csv\", index=False)\n",
    "print(\"Predictions saved to submission.csv\")"
   ]
  }
 ],
 "metadata": {
  "kaggle": {
   "accelerator": "none",
   "dataSources": [
    {
     "databundleVersionId": 11561901,
     "sourceId": 97155,
     "sourceType": "competition"
    }
   ],
   "dockerImageVersionId": 30918,
   "isGpuEnabled": false,
   "isInternetEnabled": false,
   "language": "python",
   "sourceType": "notebook"
  },
  "kernelspec": {
   "display_name": "Python 3",
   "language": "python",
   "name": "python3"
  },
  "language_info": {
   "codemirror_mode": {
    "name": "ipython",
    "version": 3
   },
   "file_extension": ".py",
   "mimetype": "text/x-python",
   "name": "python",
   "nbconvert_exporter": "python",
   "pygments_lexer": "ipython3",
   "version": "3.10.12"
  },
  "papermill": {
   "default_parameters": {},
   "duration": 261.361675,
   "end_time": "2025-04-30T12:48:23.976330",
   "environment_variables": {},
   "exception": null,
   "input_path": "__notebook__.ipynb",
   "output_path": "__notebook__.ipynb",
   "parameters": {},
   "start_time": "2025-04-30T12:44:02.614655",
   "version": "2.6.0"
  }
 },
 "nbformat": 4,
 "nbformat_minor": 5
}
